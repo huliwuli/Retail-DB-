{
 "cells": [
  {
   "cell_type": "code",
   "execution_count": 363,
   "metadata": {},
   "outputs": [],
   "source": [
    "#spark_df = spark.read.format(\"csv\").option(\"header\", \"true\").load(\"s3://xyz-source-raw/customer/customer_*.csv\")"
   ]
  },
  {
   "cell_type": "code",
   "execution_count": 364,
   "metadata": {},
   "outputs": [],
   "source": [
    "from pyspark.sql import SparkSession\n",
    "\n",
    "spark = SparkSession\\\n",
    "        .builder\\\n",
    "        .appName(\"Spark Job\")\\\n",
    "        .enableHiveSupport()\\\n",
    "        .getOrCreate()"
   ]
  },
  {
   "cell_type": "code",
   "execution_count": 365,
   "metadata": {},
   "outputs": [],
   "source": [
    "test_df = spark.read.csv(\"./final_customer_2023-2-10.csv\",header=True)"
   ]
  },
  {
   "cell_type": "code",
   "execution_count": 366,
   "metadata": {},
   "outputs": [],
   "source": [
    "test_df = test_df.withColumn(\"Date\", F.col(\"Date\").cast(\"date\"))\n",
    "test_df = test_df.withColumn(\"Customer_Joindate\", F.col(\"Customer_Joindate\").cast(\"date\"))"
   ]
  },
  {
   "cell_type": "code",
   "execution_count": 367,
   "metadata": {},
   "outputs": [
    {
     "name": "stdout",
     "output_type": "stream",
     "text": [
      "root\n",
      " |-- Order_Id: string (nullable = true)\n",
      " |-- Customer_id: string (nullable = true)\n",
      " |-- Customer_name: string (nullable = true)\n",
      " |-- Customer_email: string (nullable = true)\n",
      " |-- Customer_address: string (nullable = true)\n",
      " |-- Customer_Joindate: date (nullable = true)\n",
      " |-- Product_id: string (nullable = true)\n",
      " |-- Product_name: string (nullable = true)\n",
      " |-- Product_category: string (nullable = true)\n",
      " |-- Manufacture_name: string (nullable = true)\n",
      " |-- Manufacture_address: string (nullable = true)\n",
      " |-- Product_Quantity: string (nullable = true)\n",
      " |-- Product_Price: string (nullable = true)\n",
      " |-- Store_id: string (nullable = true)\n",
      " |-- Store_name: string (nullable = true)\n",
      " |-- Manager_name: string (nullable = true)\n",
      " |-- Store_address: string (nullable = true)\n",
      " |-- Date: date (nullable = true)\n",
      "\n"
     ]
    }
   ],
   "source": [
    "test_df.printSchema()"
   ]
  },
  {
   "cell_type": "code",
   "execution_count": 368,
   "metadata": {},
   "outputs": [],
   "source": [
    "Fact_table = test_df.select(['Order_id','Customer_id','Product_id','Date','Store_id','Product_Quantity','Product_Price'])"
   ]
  },
  {
   "cell_type": "code",
   "execution_count": 369,
   "metadata": {},
   "outputs": [
    {
     "name": "stdout",
     "output_type": "stream",
     "text": [
      "root\n",
      " |-- Order_id: string (nullable = true)\n",
      " |-- Product_id: string (nullable = true)\n",
      " |-- Date: date (nullable = true)\n",
      " |-- Store_id: string (nullable = true)\n",
      " |-- Product_Quantity: string (nullable = true)\n",
      " |-- Product_Price: string (nullable = true)\n",
      "\n"
     ]
    }
   ],
   "source": [
    "Fact_table.printSchema()"
   ]
  },
  {
   "cell_type": "code",
   "execution_count": 370,
   "metadata": {},
   "outputs": [
    {
     "name": "stdout",
     "output_type": "stream",
     "text": [
      "+--------+----------+----------+--------+----------------+-------------+\n",
      "|Order_id|Product_id|      Date|Store_id|Product_Quantity|Product_Price|\n",
      "+--------+----------+----------+--------+----------------+-------------+\n",
      "|       1|    85123A|2022-02-10|       1|               3|          100|\n",
      "|       1|     71053|2022-02-10|       1|               3|          150|\n",
      "|       1|    84406B|2022-02-10|       1|               2|          899|\n",
      "|       2|    84029G|2022-02-10|       2|               3|           20|\n",
      "|       3|    84029E|2022-02-10|       2|               1|           30|\n",
      "|       4|     22752|2022-02-10|       2|               1|           20|\n",
      "|       5|     21730|2022-02-10|       2|               3|           40|\n",
      "|       6|     22633|2022-02-10|       3|               4|           50|\n",
      "|       6|     84879|2022-02-10|       3|               5|           30|\n",
      "|       7|     22633|2022-02-10|       3|               3|           50|\n",
      "|       8|     84879|2022-02-10|       3|               2|           30|\n",
      "|       9|     84879|2022-02-10|       3|               1|           30|\n",
      "+--------+----------+----------+--------+----------------+-------------+\n",
      "\n"
     ]
    }
   ],
   "source": [
    "Fact_table.show()"
   ]
  },
  {
   "cell_type": "code",
   "execution_count": 371,
   "metadata": {},
   "outputs": [],
   "source": [
    "Fact_table = Fact_table.withColumn(\"Amount\",Fact_table['Product_Quantity']*Fact_table['Product_Price'])"
   ]
  },
  {
   "cell_type": "code",
   "execution_count": 372,
   "metadata": {},
   "outputs": [],
   "source": [
    "from pyspark.sql import functions as F"
   ]
  },
  {
   "cell_type": "code",
   "execution_count": 373,
   "metadata": {},
   "outputs": [],
   "source": [
    "Fact_table = Fact_table.withColumn(\"Date_id\",F.date_format(F.col(\"date\"), \"yyyyMMdd\"))"
   ]
  },
  {
   "cell_type": "code",
   "execution_count": 374,
   "metadata": {},
   "outputs": [
    {
     "name": "stdout",
     "output_type": "stream",
     "text": [
      "+--------+----------+--------+--------+--------+------+\n",
      "|Order_id|Product_id| Date_id|Store_id|Quantity|Amount|\n",
      "+--------+----------+--------+--------+--------+------+\n",
      "|       1|    85123A|20220210|       1|       3| 300.0|\n",
      "|       1|     71053|20220210|       1|       3| 450.0|\n",
      "|       1|    84406B|20220210|       1|       2|1798.0|\n",
      "|       2|    84029G|20220210|       2|       3|  60.0|\n",
      "|       3|    84029E|20220210|       2|       1|  30.0|\n",
      "+--------+----------+--------+--------+--------+------+\n",
      "only showing top 5 rows\n",
      "\n"
     ]
    }
   ],
   "source": [
    "Fact_table = Fact_table.select(['Order_id','Product_id','Date_id','Store_id','Product_Quantity','Amount'])\n",
    "Fact_table = Fact_table.withColumnRenamed(\"Product_Quantity\",'Quantity')\n",
    "Fact_table.show(5)"
   ]
  },
  {
   "cell_type": "code",
   "execution_count": 375,
   "metadata": {},
   "outputs": [],
   "source": [
    "Customer_dim = test_df.select(['Customer_id','Customer_name','Customer_email','Customer_address','Customer_Joindate'])"
   ]
  },
  {
   "cell_type": "code",
   "execution_count": 376,
   "metadata": {},
   "outputs": [],
   "source": [
    "Customer_dim = Customer_dim.withColumn(\"First_Name\", F.split(F.col('Customer_name'), ' ').getItem(0))\n",
    "Customer_dim = Customer_dim.withColumn(\"Last_Name\", F.split(F.col('Customer_name'), ' ').getItem(1))\n",
    "Customer_dim = Customer_dim.withColumnRenamed(\"Customer_email\",'Email_Address')\n"
   ]
  },
  {
   "cell_type": "code",
   "execution_count": 377,
   "metadata": {},
   "outputs": [],
   "source": [
    "Customer_dim = Customer_dim.withColumn(\"Address\", F.split(F.col('Customer_address'), ',').getItem(0))\n",
    "Customer_dim = Customer_dim.withColumn(\"City\", F.split(F.col('Customer_address'), ',').getItem(1))\n",
    "Customer_dim = Customer_dim.withColumn(\"State\", F.split(F.col('Customer_address'), ',').getItem(2))\n",
    "Customer_dim = Customer_dim.withColumn(\"Zipcode\", F.split(F.col('Customer_address'), ',').getItem(3))"
   ]
  },
  {
   "cell_type": "code",
   "execution_count": 379,
   "metadata": {},
   "outputs": [
    {
     "name": "stdout",
     "output_type": "stream",
     "text": [
      "+-----------+----------+---------+--------------------+--------------------+-------------+-----+-------+\n",
      "|Customer_id|First_Name|Last_Name|       Email_Address|             Address|         City|State|Zipcode|\n",
      "+-----------+----------+---------+--------------------+--------------------+-------------+-----+-------+\n",
      "|          1|    Hayley|   Austin| zekyrabe@finews.biz|   44 E. West Street|      Ashland|   OH|  44805|\n",
      "|          2|   Michael|    Baker|  dypanoho@lyft.live|131 Iroquois Street |    Southgate|   FL|  04403|\n",
      "|          3|     Carol|Jefferson|  sizunyxy@decabg.eu|MI 48195 8779 Win...|Fuquay Varina|   NC|  27526|\n",
      "|          4|  Benjamin|    White|quburuha@ema-sofi...|    611 Penn Street |  Long Branch|   NJ|  07740|\n",
      "|          5|     Jason|    Weber|    lyhevi@lyft.live|7075 Princess Street|       Linden|   NJ|  07036|\n",
      "|          6|    Jordan|    Kelly| balukajo@finews.biz|      7459 Gulf Lane|      Raeford|   NC|  28376|\n",
      "|          7|  Brittany|  Goodwin|gibumuba@lyricspa...|   9057 Vermont Road| Cockeysville|   MD|  21030|\n",
      "|          8|      Lori|    Green|    ponure@decabg.eu|7365 Cherry Hill ...|     Kingston|   NY|  12401|\n",
      "|          9|    Sharon| Davidson|roraba@brand-app.biz|8551 St Margarets...|      Seymour|   IN|  47274|\n",
      "+-----------+----------+---------+--------------------+--------------------+-------------+-----+-------+\n",
      "\n"
     ]
    }
   ],
   "source": [
    "Customer_dim = Customer_dim.select(\n",
    "    F.col('Customer_id'),\n",
    "    F.col('First_Name'),\n",
    "    F.col('Last_Name'),\n",
    "    F.col('Email_Address'),\n",
    "    F.col('Address'),\n",
    "    F.trim(F.col('City')).alias('City'),\n",
    "   F.trim(F.col('State')).alias('State'),\n",
    "    F.col('Zipcode'),\n",
    "    F.col('Customer_Joindate').alias('join_date')\n",
    ").dropDuplicates(subset=['Customer_id','First_Name']).show()"
   ]
  },
  {
   "cell_type": "code",
   "execution_count": 380,
   "metadata": {},
   "outputs": [],
   "source": [
    "Product_dim = test_df.select(\n",
    "    ['Product_id','Product_name','Product_category','Manufacture_name','Manufacture_address']\n",
    ")"
   ]
  },
  {
   "cell_type": "code",
   "execution_count": 381,
   "metadata": {},
   "outputs": [],
   "source": [
    "Product_dim = Product_dim.withColumn(\"Address\", F.split(F.col('Manufacture_address'), ',').getItem(0))\n",
    "Product_dim = Product_dim.withColumn(\"City\", F.split(F.col('Manufacture_address'), ',').getItem(1))\n",
    "Product_dim = Product_dim.withColumn(\"State\", F.split(F.col('Manufacture_address'), ',').getItem(2))\n",
    "Product_dim = Product_dim.withColumn(\"Zipcode\", F.split(F.col('Manufacture_address'), ',').getItem(3))"
   ]
  },
  {
   "cell_type": "code",
   "execution_count": 382,
   "metadata": {},
   "outputs": [
    {
     "name": "stdout",
     "output_type": "stream",
     "text": [
      "+----------+--------------------+----------------+----------------+--------------------+------------+-----+-------+\n",
      "|Product_id|        Product_name|Product_category|Manufacture_name|             Address|        City|State|Zipcode|\n",
      "+----------+--------------------+----------------+----------------+--------------------+------------+-----+-------+\n",
      "|     21730|GLASS STAR FROSTE...|         Kitchen|    Best Kitchen|  3862 Almond Avenue|     Fremont|   CA|  94538|\n",
      "|     22633|HAND WARMER UNION...|           Cloth|          Unique|17372 Crestview Road|Fayetteville|   AR|  72701|\n",
      "|     22752|SET 7 BABUSHKA NE...|         Kitchen|    Best Kitchen|  3862 Almond Avenue|     Fremont|   CA|  94538|\n",
      "|     71053|           Apple Pen|            Tech|           Apple|463 Pecan Tree Drive|  Montgomery|   AL|  36109|\n",
      "|    84029E|RED WOOLLY HOTTIE...|         Kitchen|    Best Kitchen|  3862 Almond Avenue|     Fremont|   CA|  94538|\n",
      "|    84029G|KNITTED UNION FLA...|         Kitchen|    Best Kitchen|  3862 Almond Avenue|     Fremont|   CA|  94538|\n",
      "|    84406B|              Iphone|            Tech|           Apple|463 Pecan Tree Drive|  Montgomery|   AL|  36109|\n",
      "|     84879|ASSORTED COLOUR B...|           Cloth|              HM| 640 Hilliard Street|  Manchester|   CT|  06042|\n",
      "|    85123A|WHITE HANGING HEA...|           Cloth|             AWS| 1405 Hickory Avenue| Panama City|   FL|  32401|\n",
      "+----------+--------------------+----------------+----------------+--------------------+------------+-----+-------+\n",
      "\n"
     ]
    }
   ],
   "source": [
    "Product_dim = Product_dim.select(\n",
    "    F.col('Product_id'),\n",
    "    F.col('Product_name'),\n",
    "    F.col('Product_category'),\n",
    "    F.col('Manufacture_name'),\n",
    "    F.col('Address'),\n",
    "    F.trim(F.col('City')).alias('City'),\n",
    "   F.trim(F.col('State')).alias('State'),\n",
    "    F.col('Zipcode')\n",
    ").dropDuplicates(subset=['Product_id','Product_name']).show()"
   ]
  },
  {
   "cell_type": "code",
   "execution_count": 383,
   "metadata": {},
   "outputs": [],
   "source": [
    "Store_dim = test_df.select(\n",
    "    ['Store_id','Store_name','Manager_name','Store_address']\n",
    ")"
   ]
  },
  {
   "cell_type": "code",
   "execution_count": 384,
   "metadata": {},
   "outputs": [],
   "source": [
    "Store_dim = Store_dim.withColumn(\"Address\", F.split(F.col('Store_address'), ',').getItem(0))\n",
    "Store_dim = Store_dim.withColumn(\"City\", F.split(F.col('Store_address'), ',').getItem(1))\n",
    "Store_dim = Store_dim.withColumn(\"State\", F.split(F.col('Store_address'), ',').getItem(2))\n",
    "Store_dim = Store_dim.withColumn(\"Zipcode\", F.split(F.col('Store_address'), ',').getItem(3))"
   ]
  },
  {
   "cell_type": "code",
   "execution_count": 385,
   "metadata": {},
   "outputs": [
    {
     "name": "stdout",
     "output_type": "stream",
     "text": [
      "+--------+------------------+------------+------------------+-----------+-----+-------+\n",
      "|Store_id|        Store_name|Manager_name|           Address|       City|State|Zipcode|\n",
      "+--------+------------------+------------+------------------+-----------+-----+-------+\n",
      "|       1|      BestMai - NJ|       Afaka|       125 18th St|Jersey City|   NJ|  07310|\n",
      "|       2|       BestMai -NY|        Dogg|      625 Broadway|   New York|   NY|  10012|\n",
      "|       3|BestMai - Flushing|        Chen|13107 40th Rd C300|     Queens|   NY|  11354|\n",
      "+--------+------------------+------------+------------------+-----------+-----+-------+\n",
      "\n"
     ]
    }
   ],
   "source": [
    "Store_dim = Store_dim.select(\n",
    "    F.col('Store_id'),\n",
    "    F.col('Store_name'),\n",
    "    F.col('Manager_name'),\n",
    "    F.col('Address'),\n",
    "    F.trim(F.col('City')).alias('City'),\n",
    "   F.trim(F.col('State')).alias('State'),\n",
    "    F.col('Zipcode')\n",
    ").dropDuplicates(subset=['Store_id','Store_name']).show()"
   ]
  },
  {
   "cell_type": "code",
   "execution_count": null,
   "metadata": {},
   "outputs": [],
   "source": []
  }
 ],
 "metadata": {
  "kernelspec": {
   "display_name": "database",
   "language": "python",
   "name": "python3"
  },
  "language_info": {
   "codemirror_mode": {
    "name": "ipython",
    "version": 3
   },
   "file_extension": ".py",
   "mimetype": "text/x-python",
   "name": "python",
   "nbconvert_exporter": "python",
   "pygments_lexer": "ipython3",
   "version": "3.8.13 (default, Mar 28 2022, 06:59:08) [MSC v.1916 64 bit (AMD64)]"
  },
  "orig_nbformat": 4,
  "vscode": {
   "interpreter": {
    "hash": "f37b6ea6e57288f8cadd035c0b6ac6fe77669f2d9e8227313250f4a5a5322b1a"
   }
  }
 },
 "nbformat": 4,
 "nbformat_minor": 2
}
