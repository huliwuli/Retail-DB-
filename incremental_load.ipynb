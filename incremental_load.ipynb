{
 "cells": [
  {
   "cell_type": "code",
   "execution_count": 1,
   "metadata": {},
   "outputs": [],
   "source": [
    "from pyspark.sql import SparkSession\n",
    "\n",
    "spark = SparkSession\\\n",
    "        .builder\\\n",
    "        .appName(\"Spark Job\")\\\n",
    "        .enableHiveSupport()\\\n",
    "        .getOrCreate()"
   ]
  },
  {
   "cell_type": "code",
   "execution_count": 2,
   "metadata": {},
   "outputs": [],
   "source": [
    "from pyspark.sql import functions as F"
   ]
  },
  {
   "cell_type": "code",
   "execution_count": 4,
   "metadata": {},
   "outputs": [],
   "source": [
    "test_df = spark.read.csv(\"./final_customer_2023-02-14.csv\",header=True)"
   ]
  },
  {
   "cell_type": "code",
   "execution_count": 5,
   "metadata": {},
   "outputs": [],
   "source": [
    "\n",
    "# Modify Date\n",
    "test_df = test_df.withColumn(\"date\", F.col(\"date\").cast(\"date\"))\n",
    "test_df = test_df.withColumn(\"customer_joindate\", F.col(\"customer_joindate\").cast(\"date\"))\n",
    "\n",
    "# FactTable Preprocess\n",
    "Fact_table = test_df.select(['order_id','customer_id','product_id','date','store_id','product_quantity','product_price'])\n",
    "Fact_table = Fact_table.withColumn(\"amount\",Fact_table['product_quantity']*Fact_table['product_price'])\n",
    "Fact_table = Fact_table.withColumn(\"date_id\",F.date_format(F.col(\"date\"), \"yyyyMMdd\"))\n",
    "Fact_table = Fact_table.select(['order_id','customer_id','product_id','date_id','store_id','product_quantity','amount'])\n",
    "Fact_table = Fact_table.withColumnRenamed(\"product_quantity\",'quantity')\n",
    "\n",
    "# CustomerTable Preprocess\n",
    "\n",
    "Customer_dim = test_df.select(['customer_id','customer_name','customer_email','customer_address','customer_joindate'])\n",
    "Customer_dim = Customer_dim.withColumn(\"first_name\", F.split(F.col('customer_name'), ' ').getItem(0))\n",
    "Customer_dim = Customer_dim.withColumn(\"last_name\", F.split(F.col('customer_name'), ' ').getItem(1))\n",
    "Customer_dim = Customer_dim.withColumnRenamed(\"customer_email\",'email_address')\n",
    "Customer_dim = Customer_dim.withColumn(\"address\", F.split(F.col('customer_address'), ',').getItem(0))\n",
    "Customer_dim = Customer_dim.withColumn(\"city\", F.split(F.col('customer_address'), ',').getItem(1))\n",
    "Customer_dim = Customer_dim.withColumn(\"state\", F.split(F.col('customer_address'), ',').getItem(2))\n",
    "Customer_dim = Customer_dim.withColumn(\"zipcode\", F.split(F.col('customer_address'), ',').getItem(3))\n",
    "Customer_dim = Customer_dim.select(\n",
    "    F.col('customer_id'),\n",
    "    F.col('first_name'),\n",
    "    F.col('last_name'),\n",
    "    F.col('email_address'),\n",
    "    F.col('address'),\n",
    "    F.trim(F.col('city')).alias('city'),\n",
    "   F.trim(F.col('state')).alias('state'),\n",
    "    F.col('zipcode'),\n",
    "    F.col('Customer_Joindate').alias('join_date')\n",
    ").dropDuplicates(subset=['customer_id','first_name'])\n",
    "\n",
    "# Product_dim Preprocess\n",
    "Product_dim = test_df.select(\n",
    "    ['product_id','product_name','product_category','manufacture_name','manufacture_address']\n",
    ")\n",
    "\n",
    "Product_dim = Product_dim.withColumn(\"address\", F.split(F.col('manufacture_address'), ',').getItem(0))\n",
    "Product_dim = Product_dim.withColumn(\"city\", F.split(F.col('manufacture_address'), ',').getItem(1))\n",
    "Product_dim = Product_dim.withColumn(\"state\", F.split(F.col('manufacture_address'), ',').getItem(2))\n",
    "Product_dim = Product_dim.withColumn(\"zipcode\", F.split(F.col('manufacture_address'), ',').getItem(3))\n",
    "\n",
    "\n",
    "Product_dim = Product_dim.select(\n",
    "    F.col('product_id'),\n",
    "    F.col('product_name'),\n",
    "    F.col('product_category'),\n",
    "    F.col('manufacture_name'),\n",
    "    F.col('address'),\n",
    "    F.trim(F.col('city')).alias('city'),\n",
    "   F.trim(F.col('state')).alias('state'),\n",
    "    F.col('zipcode')\n",
    ").dropDuplicates(subset=['product_id','product_name'])\n",
    "\n",
    "# StoreTable Preprocess\n",
    "Store_dim = test_df.select(\n",
    "    ['store_id','store_name','manager_name','store_address']\n",
    ")\n",
    "\n",
    "Store_dim = Store_dim.withColumn(\"address\", F.split(F.col('store_address'), ',').getItem(0))\n",
    "Store_dim = Store_dim.withColumn(\"city\", F.split(F.col('store_address'), ',').getItem(1))\n",
    "Store_dim = Store_dim.withColumn(\"state\", F.split(F.col('store_address'), ',').getItem(2))\n",
    "Store_dim = Store_dim.withColumn(\"zipcode\", F.split(F.col('store_address'), ',').getItem(3))\n",
    "\n",
    "Store_dim = Store_dim.select(\n",
    "    F.col('store_id'),\n",
    "    F.col('store_name'),\n",
    "    F.col('manager_name'),\n",
    "    F.col('address'),\n",
    "    F.trim(F.col('city')).alias('city'),\n",
    "   F.trim(F.col('state')).alias('state'),\n",
    "    F.col('zipcode')\n",
    ").dropDuplicates(subset=['store_id','store_name'])"
   ]
  },
  {
   "cell_type": "code",
   "execution_count": 6,
   "metadata": {},
   "outputs": [
    {
     "name": "stdout",
     "output_type": "stream",
     "text": [
      "+--------+-----------+----------+-------+--------+--------+------+\n",
      "|order_id|customer_id|product_id|date_id|store_id|quantity|amount|\n",
      "+--------+-----------+----------+-------+--------+--------+------+\n",
      "|       8|          8|     84879|   null|       4|       2|  60.0|\n",
      "|       9|          9|     84879|   null|       4|       1|  30.0|\n",
      "|      10|         10|    84406B|   null|       2|       8|7192.0|\n",
      "|      11|         11|     84879|   null|       4|       1|  30.0|\n",
      "|      12|         12|     84879|   null|       4|       2|  60.0|\n",
      "|      13|         13|     84879|   null|       4|       3|  90.0|\n",
      "|      13|         13|    84406B|   null|       2|       2|1798.0|\n",
      "+--------+-----------+----------+-------+--------+--------+------+\n",
      "\n"
     ]
    }
   ],
   "source": [
    "Fact_table.show()"
   ]
  },
  {
   "cell_type": "code",
   "execution_count": 12,
   "metadata": {},
   "outputs": [],
   "source": [
    "fact_prev = spark.read.parquet('F:/DE/Final/Parquet/fact_table/part-00000-a210d996-c636-434c-ae06-cf8e6fb615e9-c000.snappy.parquet')"
   ]
  },
  {
   "cell_type": "code",
   "execution_count": 11,
   "metadata": {},
   "outputs": [
    {
     "ename": "AttributeError",
     "evalue": "'DataFrame' object has no attribute 'order_id'",
     "output_type": "error",
     "traceback": [
      "\u001b[1;31m---------------------------------------------------------------------------\u001b[0m",
      "\u001b[1;31mAttributeError\u001b[0m                            Traceback (most recent call last)",
      "\u001b[1;32mf:\\DE\\Final\\incremental_load.ipynb Cell 7\u001b[0m in \u001b[0;36m<cell line: 3>\u001b[1;34m()\u001b[0m\n\u001b[0;32m      <a href='vscode-notebook-cell:/f%3A/DE/Final/incremental_load.ipynb#X12sZmlsZQ%3D%3D?line=0'>1</a>\u001b[0m \u001b[39m# identify new records comging from day 2 dataset\u001b[39;00m\n\u001b[1;32m----> <a href='vscode-notebook-cell:/f%3A/DE/Final/incremental_load.ipynb#X12sZmlsZQ%3D%3D?line=2'>3</a>\u001b[0m Fact_table_new_df \u001b[39m=\u001b[39m Fact_table\u001b[39m.\u001b[39mjoin(fact_prev,Fact_table\u001b[39m.\u001b[39morder_id \u001b[39m==\u001b[39mfact_prev\u001b[39m.\u001b[39;49morder_id,\u001b[39m'\u001b[39m\u001b[39mleft\u001b[39m\u001b[39m'\u001b[39m )\\\n\u001b[0;32m      <a href='vscode-notebook-cell:/f%3A/DE/Final/incremental_load.ipynb#X12sZmlsZQ%3D%3D?line=3'>4</a>\u001b[0m      \u001b[39m.\u001b[39mfilter(fact_prev\u001b[39m.\u001b[39morder_id\u001b[39m.\u001b[39misNull())\\\n\u001b[0;32m      <a href='vscode-notebook-cell:/f%3A/DE/Final/incremental_load.ipynb#X12sZmlsZQ%3D%3D?line=4'>5</a>\u001b[0m     \u001b[39m.\u001b[39mselect(Fact_table\u001b[39m.\u001b[39morder_id,Fact_table\u001b[39m.\u001b[39mcustomer_id,Fact_table\u001b[39m.\u001b[39mproduct_id,Fact_table\u001b[39m.\u001b[39mdate_id,Fact_table\u001b[39m.\u001b[39mstore_id,Fact_table\u001b[39m.\u001b[39mquantity,Fact_table\u001b[39m.\u001b[39mamount)\n\u001b[0;32m      <a href='vscode-notebook-cell:/f%3A/DE/Final/incremental_load.ipynb#X12sZmlsZQ%3D%3D?line=5'>6</a>\u001b[0m Fact_table_new_df\u001b[39m.\u001b[39mshow()\n",
      "File \u001b[1;32mf:\\anaconda3\\envs\\database\\lib\\site-packages\\pyspark\\sql\\dataframe.py:1988\u001b[0m, in \u001b[0;36mDataFrame.__getattr__\u001b[1;34m(self, name)\u001b[0m\n\u001b[0;32m   1978\u001b[0m \u001b[39m\"\"\"Returns the :class:`Column` denoted by ``name``.\u001b[39;00m\n\u001b[0;32m   1979\u001b[0m \n\u001b[0;32m   1980\u001b[0m \u001b[39m.. versionadded:: 1.3.0\u001b[39;00m\n\u001b[1;32m   (...)\u001b[0m\n\u001b[0;32m   1985\u001b[0m \u001b[39m[Row(age=2), Row(age=5)]\u001b[39;00m\n\u001b[0;32m   1986\u001b[0m \u001b[39m\"\"\"\u001b[39;00m\n\u001b[0;32m   1987\u001b[0m \u001b[39mif\u001b[39;00m name \u001b[39mnot\u001b[39;00m \u001b[39min\u001b[39;00m \u001b[39mself\u001b[39m\u001b[39m.\u001b[39mcolumns:\n\u001b[1;32m-> 1988\u001b[0m     \u001b[39mraise\u001b[39;00m \u001b[39mAttributeError\u001b[39;00m(\n\u001b[0;32m   1989\u001b[0m         \u001b[39m\"\u001b[39m\u001b[39m'\u001b[39m\u001b[39m%s\u001b[39;00m\u001b[39m'\u001b[39m\u001b[39m object has no attribute \u001b[39m\u001b[39m'\u001b[39m\u001b[39m%s\u001b[39;00m\u001b[39m'\u001b[39m\u001b[39m\"\u001b[39m \u001b[39m%\u001b[39m (\u001b[39mself\u001b[39m\u001b[39m.\u001b[39m\u001b[39m__class__\u001b[39m\u001b[39m.\u001b[39m\u001b[39m__name__\u001b[39m, name)\n\u001b[0;32m   1990\u001b[0m     )\n\u001b[0;32m   1991\u001b[0m jc \u001b[39m=\u001b[39m \u001b[39mself\u001b[39m\u001b[39m.\u001b[39m_jdf\u001b[39m.\u001b[39mapply(name)\n\u001b[0;32m   1992\u001b[0m \u001b[39mreturn\u001b[39;00m Column(jc)\n",
      "\u001b[1;31mAttributeError\u001b[0m: 'DataFrame' object has no attribute 'order_id'"
     ]
    }
   ],
   "source": [
    "# identify new records comging from day 2 dataset\n",
    "\n",
    "Fact_table_new_df = Fact_table.join(fact_prev,Fact_table.order_id ==fact_prev.order_id,'left' )\\\n",
    "     .filter(fact_prev.order_id.isNull())\\\n",
    "    .select(Fact_table.order_id,Fact_table.customer_id,Fact_table.product_id,Fact_table.date_id,Fact_table.store_id,Fact_table.quantity,Fact_table.amount)\n",
    "Fact_table_new_df.show()"
   ]
  },
  {
   "cell_type": "code",
   "execution_count": 12,
   "metadata": {},
   "outputs": [
    {
     "name": "stdout",
     "output_type": "stream",
     "text": [
      "+--------+-----------+----------+--------+--------+--------+------+\n",
      "|Order_id|Customer_id|Product_id| Date_id|Store_id|Quantity|Amount|\n",
      "+--------+-----------+----------+--------+--------+--------+------+\n",
      "|       8|          8|     84879|20220213|       4|       2|  60.0|\n",
      "|       9|          9|     84879|20220213|       4|       1|  30.0|\n",
      "+--------+-----------+----------+--------+--------+--------+------+\n",
      "\n"
     ]
    }
   ],
   "source": [
    "# identify modified records comging from day 2 dataset\n",
    "\n",
    "Fact_table_modified_df = Fact_table.join(fact_prev,Fact_table.Order_id ==fact_prev.Order_id,'inner' )\\\n",
    "    .select(Fact_table.Order_id,Fact_table.Customer_id,Fact_table.Product_id,Fact_table.Date_id,Fact_table.Store_id,Fact_table.Quantity,Fact_table.Amount)\n",
    "Fact_table_modified_df.show()"
   ]
  },
  {
   "cell_type": "code",
   "execution_count": 28,
   "metadata": {},
   "outputs": [
    {
     "name": "stdout",
     "output_type": "stream",
     "text": [
      "+--------+-----------+----------+--------+--------+--------+------+\n",
      "|Order_id|Customer_id|Product_id| Date_id|Store_id|Quantity|Amount|\n",
      "+--------+-----------+----------+--------+--------+--------+------+\n",
      "|       1|          1|    85123A|20220210|       1|       3| 300.0|\n",
      "|       1|          1|     71053|20220210|       1|       3| 450.0|\n",
      "|       1|          1|    84406B|20220210|       1|       2|1798.0|\n",
      "|       2|          2|    84029G|20220210|       2|       3|  60.0|\n",
      "|       3|          3|    84029E|20220210|       2|       1|  30.0|\n",
      "|       4|          4|     22752|20220210|       2|       1|  20.0|\n",
      "|       5|          5|     21730|20220210|       2|       3| 120.0|\n",
      "|       6|          6|     22633|20220210|       3|       4| 200.0|\n",
      "|       6|          6|     84879|20220210|       3|       5| 150.0|\n",
      "|       7|          7|     22633|20220210|       3|       3| 150.0|\n",
      "+--------+-----------+----------+--------+--------+--------+------+\n",
      "\n"
     ]
    }
   ],
   "source": [
    "#unchanged records\n",
    "Fact_table_unchanged_df = Fact_table.join(fact_prev,Fact_table.Order_id ==fact_prev.Order_id,'right' )\\\n",
    "    .filter(Fact_table.Order_id.isNull())\\\n",
    "    .select(fact_prev.Order_id,fact_prev.Customer_id,fact_prev.Product_id,fact_prev.Date_id,fact_prev.Store_id,fact_prev.Quantity,fact_prev.Amount)\n",
    "Fact_table_unchanged_df.show()"
   ]
  },
  {
   "cell_type": "code",
   "execution_count": 61,
   "metadata": {},
   "outputs": [
    {
     "name": "stdout",
     "output_type": "stream",
     "text": [
      "+--------+-----------+----------+--------+--------+--------+------+\n",
      "|Order_id|Customer_id|Product_id| Date_id|Store_id|Quantity|Amount|\n",
      "+--------+-----------+----------+--------+--------+--------+------+\n",
      "|      13|         13|    84406B|20220213|       2|       2|1798.0|\n",
      "|      12|         12|     84879|20220213|       4|       2|  60.0|\n",
      "|      13|         13|     84879|20220213|       4|       3|  90.0|\n",
      "|      10|         10|    84406B|20220213|       2|       8|7192.0|\n",
      "|      11|         11|     84879|20220213|       4|       1|  30.0|\n",
      "|       9|          9|     84879|20220213|       4|       1|  30.0|\n",
      "|       8|          8|     84879|20220213|       4|       2|  60.0|\n",
      "|       3|          3|    84029E|20220210|       2|       1|  30.0|\n",
      "|       2|          2|    84029G|20220210|       2|       3|  60.0|\n",
      "|       4|          4|     22752|20220210|       2|       1|  20.0|\n",
      "|       1|          1|    85123A|20220210|       1|       3| 300.0|\n",
      "|       1|          1|     71053|20220210|       1|       3| 450.0|\n",
      "|       6|          6|     22633|20220210|       3|       4| 200.0|\n",
      "|       7|          7|     22633|20220210|       3|       3| 150.0|\n",
      "|       5|          5|     21730|20220210|       2|       3| 120.0|\n",
      "|       1|          1|    84406B|20220210|       1|       2|1798.0|\n",
      "|       6|          6|     84879|20220210|       3|       5| 150.0|\n",
      "+--------+-----------+----------+--------+--------+--------+------+\n",
      "\n"
     ]
    }
   ],
   "source": [
    "Fact_table_final_df = Fact_table_new_df.union(Fact_table_modified_df).union(Fact_table_unchanged_df).distinct()\n",
    "\n",
    "Fact_table_final_df.show()"
   ]
  },
  {
   "cell_type": "code",
   "execution_count": 13,
   "metadata": {},
   "outputs": [],
   "source": [
    "product_prev = spark.read.parquet('F:/DE/Final/Parquet/Product/part-00000-6b6c22be-449d-4bf8-a52d-36a00a1a3a0f-c000.snappy.parquet')"
   ]
  },
  {
   "cell_type": "code",
   "execution_count": 14,
   "metadata": {},
   "outputs": [
    {
     "name": "stdout",
     "output_type": "stream",
     "text": [
      "+----------+--------------------+----------------+----------------+--------------------+------------+-----+-------+\n",
      "|product_id|        product_name|product_category|manufacture_name|             address|        city|state|zipcode|\n",
      "+----------+--------------------+----------------+----------------+--------------------+------------+-----+-------+\n",
      "|     22752|SET 7 BABUSHKA NE...|         Kitchen|    Best Kitchen|  3862 Almond Avenue|     Fremont|   CA|  94538|\n",
      "|    84029E|RED WOOLLY HOTTIE...|         Kitchen|    Best Kitchen|  3862 Almond Avenue|     Fremont|   CA|  94538|\n",
      "|     84879|ASSORTED COLOUR B...|           Cloth|              HM| 640 Hilliard Street|  Manchester|   CT|  06042|\n",
      "|    85123A|WHITE HANGING HEA...|           Cloth|             AWS| 1405 Hickory Avenue| Panama City|   FL|  32401|\n",
      "|     22633|HAND WARMER UNION...|           Cloth|          Unique|17372 Crestview Road|Fayetteville|   AR|  72701|\n",
      "|     71053|           Apple Pen|            Tech|           Apple|463 Pecan Tree Drive|  Montgomery|   AL|  36109|\n",
      "|    84406B|              Iphone|            Tech|           Apple|463 Pecan Tree Drive|  Montgomery|   AL|  36109|\n",
      "|     21730|GLASS STAR FROSTE...|         Kitchen|    Best Kitchen|  3862 Almond Avenue|     Fremont|   CA|  94538|\n",
      "|    84029G|KNITTED UNION FLA...|         Kitchen|    Best Kitchen|  3862 Almond Avenue|     Fremont|   CA|  94538|\n",
      "+----------+--------------------+----------------+----------------+--------------------+------------+-----+-------+\n",
      "\n"
     ]
    }
   ],
   "source": [
    "product_prev.show()"
   ]
  },
  {
   "cell_type": "code",
   "execution_count": 15,
   "metadata": {},
   "outputs": [],
   "source": [
    "Product_dim_new_df = Product_dim.join(product_prev,Product_dim.product_id ==product_prev.product_id,'left' )\\\n",
    "     .filter(product_prev.product_id.isNull())\\\n",
    "    .select(Product_dim.product_id,Product_dim.product_name,Product_dim.product_category,Product_dim.manufacture_name,Product_dim.address,Product_dim.city,Product_dim.state,Product_dim.zipcode)\n",
    "# identify modified records comging from day 2 dataset\n",
    "Product_dim_modified_df = Product_dim.join(product_prev,Product_dim.product_id ==product_prev.product_id,'inner' )\\\n",
    "    .select(Product_dim.product_id,Product_dim.product_name,Product_dim.product_category,Product_dim.manufacture_name,Product_dim.address,Product_dim.city,Product_dim.state,Product_dim.zipcode)\n",
    "#unchanged records\n",
    "Product_dim_unchanged_df = Product_dim.join(product_prev,Product_dim.product_id ==product_prev.product_id,'right' )\\\n",
    "    .filter(Product_dim.product_id.isNull())\\\n",
    "    .select(product_prev.product_id,product_prev.product_name,product_prev.product_category,product_prev.manufacture_name,product_prev.address,product_prev.city,product_prev.state,product_prev.zipcode)"
   ]
  },
  {
   "cell_type": "code",
   "execution_count": 16,
   "metadata": {},
   "outputs": [
    {
     "name": "stdout",
     "output_type": "stream",
     "text": [
      "+----------+------------+----------------+----------------+-------+----+-----+-------+\n",
      "|product_id|product_name|product_category|manufacture_name|address|city|state|zipcode|\n",
      "+----------+------------+----------------+----------------+-------+----+-----+-------+\n",
      "+----------+------------+----------------+----------------+-------+----+-----+-------+\n",
      "\n"
     ]
    }
   ],
   "source": [
    "Product_dim_new_df.show()"
   ]
  },
  {
   "cell_type": "code",
   "execution_count": 17,
   "metadata": {},
   "outputs": [
    {
     "name": "stdout",
     "output_type": "stream",
     "text": [
      "+----------+------------+----------------+----------------+-------+----+-----+-------+\n",
      "|Product_id|Product_name|Product_category|Manufacture_name|Address|City|State|Zipcode|\n",
      "+----------+------------+----------------+----------------+-------+----+-----+-------+\n",
      "+----------+------------+----------------+----------------+-------+----+-----+-------+\n",
      "\n"
     ]
    }
   ],
   "source": [
    "# identify new records comging from day 2 dataset\n",
    "\n",
    "Product_dim_new_df = Product_dim.join(product_prev,Product_dim.Product_id ==product_prev.Product_id,'left' )\\\n",
    "     .filter(product_prev.Product_id.isNull())\\\n",
    "    .select(Product_dim.Product_id,Product_dim.Product_name,Product_dim.Product_category,Product_dim.Manufacture_name,Product_dim.Address,Product_dim.City,Product_dim.State,Product_dim.Zipcode)\n",
    "Product_dim_new_df.show()"
   ]
  },
  {
   "cell_type": "code",
   "execution_count": 18,
   "metadata": {},
   "outputs": [
    {
     "name": "stdout",
     "output_type": "stream",
     "text": [
      "+----------+--------------------+----------------+----------------+--------------------+----------+-----+-------+\n",
      "|Product_id|        Product_name|Product_category|Manufacture_name|             Address|      City|State|Zipcode|\n",
      "+----------+--------------------+----------------+----------------+--------------------+----------+-----+-------+\n",
      "|    84406B|              Iphone|            Tech|           Apple|463 Pecan Tree Drive|Montgomery|   AL|  36109|\n",
      "|     84879|ASSORTED COLOUR B...|           Cloth|              HM| 640 Hilliard Street|Manchester|   CT|  06042|\n",
      "+----------+--------------------+----------------+----------------+--------------------+----------+-----+-------+\n",
      "\n"
     ]
    }
   ],
   "source": [
    "# identify modified records comging from day 2 dataset\n",
    "Product_dim_modified_df = Product_dim.join(product_prev,Product_dim.Product_id ==product_prev.Product_id,'inner' )\\\n",
    "    .select(Product_dim.Product_id,Product_dim.Product_name,Product_dim.Product_category,Product_dim.Manufacture_name,Product_dim.Address,Product_dim.City,Product_dim.State,Product_dim.Zipcode)\n",
    "Product_dim_modified_df.show(10)"
   ]
  },
  {
   "cell_type": "code",
   "execution_count": 19,
   "metadata": {},
   "outputs": [
    {
     "name": "stdout",
     "output_type": "stream",
     "text": [
      "+----------+--------------------+----------------+----------------+--------------------+------------+-----+-------+\n",
      "|Product_id|        Product_name|Product_category|Manufacture_name|             Address|        City|State|Zipcode|\n",
      "+----------+--------------------+----------------+----------------+--------------------+------------+-----+-------+\n",
      "|     22752|SET 7 BABUSHKA NE...|         Kitchen|    Best Kitchen|  3862 Almond Avenue|     Fremont|   CA|  94538|\n",
      "|    84029E|RED WOOLLY HOTTIE...|         Kitchen|    Best Kitchen|  3862 Almond Avenue|     Fremont|   CA|  94538|\n",
      "|     84879|ASSORTED COLOUR B...|           Cloth|              HM| 640 Hilliard Street|  Manchester|   CT|  06042|\n",
      "|    85123A|WHITE HANGING HEA...|           Cloth|             AWS| 1405 Hickory Avenue| Panama City|   FL|  32401|\n",
      "|     22633|HAND WARMER UNION...|           Cloth|          Unique|17372 Crestview Road|Fayetteville|   AR|  72701|\n",
      "|     71053|           Apple Pen|            Tech|           Apple|463 Pecan Tree Drive|  Montgomery|   AL|  36109|\n",
      "|    84406B|              Iphone|            Tech|           Apple|463 Pecan Tree Drive|  Montgomery|   AL|  36109|\n",
      "|     21730|GLASS STAR FROSTE...|         Kitchen|    Best Kitchen|  3862 Almond Avenue|     Fremont|   CA|  94538|\n",
      "|    84029G|KNITTED UNION FLA...|         Kitchen|    Best Kitchen|  3862 Almond Avenue|     Fremont|   CA|  94538|\n",
      "+----------+--------------------+----------------+----------------+--------------------+------------+-----+-------+\n",
      "\n"
     ]
    }
   ],
   "source": [
    "product_prev.show()"
   ]
  },
  {
   "cell_type": "code",
   "execution_count": 31,
   "metadata": {},
   "outputs": [
    {
     "name": "stdout",
     "output_type": "stream",
     "text": [
      "+----------+--------------------+----------------+----------------+--------------------+------------+-----+-------+\n",
      "|Product_id|        Product_name|Product_category|Manufacture_name|             Address|        City|State|Zipcode|\n",
      "+----------+--------------------+----------------+----------------+--------------------+------------+-----+-------+\n",
      "|     22752|SET 7 BABUSHKA NE...|         Kitchen|    Best Kitchen|  3862 Almond Avenue|     Fremont|   CA|  94538|\n",
      "|    84029E|RED WOOLLY HOTTIE...|         Kitchen|    Best Kitchen|  3862 Almond Avenue|     Fremont|   CA|  94538|\n",
      "|    85123A|WHITE HANGING HEA...|           Cloth|             AWS| 1405 Hickory Avenue| Panama City|   FL|  32401|\n",
      "|     22633|HAND WARMER UNION...|           Cloth|          Unique|17372 Crestview Road|Fayetteville|   AR|  72701|\n",
      "|     71053|           Apple Pen|            Tech|           Apple|463 Pecan Tree Drive|  Montgomery|   AL|  36109|\n",
      "|     21730|GLASS STAR FROSTE...|         Kitchen|    Best Kitchen|  3862 Almond Avenue|     Fremont|   CA|  94538|\n",
      "|    84029G|KNITTED UNION FLA...|         Kitchen|    Best Kitchen|  3862 Almond Avenue|     Fremont|   CA|  94538|\n",
      "+----------+--------------------+----------------+----------------+--------------------+------------+-----+-------+\n",
      "\n"
     ]
    }
   ],
   "source": [
    "#unchanged records\n",
    "\n",
    "\n",
    "Product_dim_unchanged_df = Product_dim.join(product_prev,Product_dim.Product_id ==product_prev.Product_id,'right' )\\\n",
    "    .filter(Product_dim.Product_id.isNull())\\\n",
    "    .select(product_prev.Product_id,product_prev.Product_name,product_prev.Product_category,product_prev.Manufacture_name,product_prev.Address,product_prev.City,product_prev.State,product_prev.Zipcode)\n",
    "Product_dim_unchanged_df.show(10)"
   ]
  },
  {
   "cell_type": "code",
   "execution_count": 56,
   "metadata": {},
   "outputs": [
    {
     "name": "stdout",
     "output_type": "stream",
     "text": [
      "+----------+--------------------+----------------+----------------+--------------------+------------+-----+-------+\n",
      "|Product_id|        Product_name|Product_category|Manufacture_name|             Address|        City|State|Zipcode|\n",
      "+----------+--------------------+----------------+----------------+--------------------+------------+-----+-------+\n",
      "|    84406B|              Iphone|            Tech|           Apple|463 Pecan Tree Drive|  Montgomery|   AL|  36109|\n",
      "|     84879|ASSORTED COLOUR B...|           Cloth|              HM| 640 Hilliard Street|  Manchester|   CT|  06042|\n",
      "|     22633|HAND WARMER UNION...|           Cloth|          Unique|17372 Crestview Road|Fayetteville|   AR|  72701|\n",
      "|     22752|SET 7 BABUSHKA NE...|         Kitchen|    Best Kitchen|  3862 Almond Avenue|     Fremont|   CA|  94538|\n",
      "|     21730|GLASS STAR FROSTE...|         Kitchen|    Best Kitchen|  3862 Almond Avenue|     Fremont|   CA|  94538|\n",
      "|     71053|           Apple Pen|            Tech|           Apple|463 Pecan Tree Drive|  Montgomery|   AL|  36109|\n",
      "|    85123A|WHITE HANGING HEA...|           Cloth|             AWS| 1405 Hickory Avenue| Panama City|   FL|  32401|\n",
      "|    84029E|RED WOOLLY HOTTIE...|         Kitchen|    Best Kitchen|  3862 Almond Avenue|     Fremont|   CA|  94538|\n",
      "|    84029G|KNITTED UNION FLA...|         Kitchen|    Best Kitchen|  3862 Almond Avenue|     Fremont|   CA|  94538|\n",
      "+----------+--------------------+----------------+----------------+--------------------+------------+-----+-------+\n",
      "\n"
     ]
    }
   ],
   "source": [
    "Product_dim_final_df = Product_dim_new_df.union(Product_dim_modified_df).union(Product_dim_unchanged_df).distinct()\n",
    "\n",
    "Product_dim_final_df.show()"
   ]
  },
  {
   "cell_type": "code",
   "execution_count": 21,
   "metadata": {},
   "outputs": [],
   "source": [
    "customer_prev = spark.read.parquet('F:/DE/Final/Parquet/Customer_dim/part-00000-718f8014-b421-4256-877c-683b49dfeb02-c000.snappy.parquet')"
   ]
  },
  {
   "cell_type": "code",
   "execution_count": 23,
   "metadata": {},
   "outputs": [
    {
     "name": "stdout",
     "output_type": "stream",
     "text": [
      "+-----------+----------+---------+--------------------+--------------------+-----------+-----+-------+----------+\n",
      "|Customer_id|First_Name|Last_Name|       Email_Address|             Address|       City|State|Zipcode| join_date|\n",
      "+-----------+----------+---------+--------------------+--------------------+-----------+-----+-------+----------+\n",
      "|         10|      John|    Smith|     fake5@decabg.eu|     1234 Elm Street|    Anytown|   CA|  12345|2019-06-07|\n",
      "|         11|     Sarah|  Johnson|     fake2@decabg.eu|     5678 Oak Avenue|Springfield|   IL|  67890|2019-06-08|\n",
      "|         12|   William|    Brown|     fake3@decabg.eu|     9012 Maple Road| Smallville|   NY|  34567|2019-06-09|\n",
      "|         13|    Ashley| Williams|     fake4@decabg.eu|      4321 Pine Lane|   Big City|   TX|  98765|2019-06-10|\n",
      "|          8|      Lori|    Green|    ponure@decabg.eu|7365 Cherry Hill ...|   Kingston|   NY|  12401|2011-09-12|\n",
      "|          9|    Sharon| Davidson|roraba@brand-app.biz|8551 St Margarets...|    Seymour|   IN|  47274|2015-06-26|\n",
      "+-----------+----------+---------+--------------------+--------------------+-----------+-----+-------+----------+\n",
      "\n"
     ]
    }
   ],
   "source": [
    "Customer_dim.show()"
   ]
  },
  {
   "cell_type": "code",
   "execution_count": 24,
   "metadata": {},
   "outputs": [
    {
     "name": "stdout",
     "output_type": "stream",
     "text": [
      "+-----------+----------+---------+---------------+---------------+-----------+-----+-------+----------+\n",
      "|Customer_id|First_Name|Last_Name|  Email_Address|        Address|       City|State|Zipcode| join_date|\n",
      "+-----------+----------+---------+---------------+---------------+-----------+-----+-------+----------+\n",
      "|         10|      John|    Smith|fake5@decabg.eu|1234 Elm Street|    Anytown|   CA|  12345|2019-06-07|\n",
      "|         11|     Sarah|  Johnson|fake2@decabg.eu|5678 Oak Avenue|Springfield|   IL|  67890|2019-06-08|\n",
      "|         12|   William|    Brown|fake3@decabg.eu|9012 Maple Road| Smallville|   NY|  34567|2019-06-09|\n",
      "|         13|    Ashley| Williams|fake4@decabg.eu| 4321 Pine Lane|   Big City|   TX|  98765|2019-06-10|\n",
      "+-----------+----------+---------+---------------+---------------+-----------+-----+-------+----------+\n",
      "\n"
     ]
    }
   ],
   "source": [
    "# identify new records comging from day 2 dataset\n",
    "\n",
    "customer_dim_new_df = Customer_dim.join(customer_prev,Customer_dim.Customer_id ==customer_prev.Customer_id,'left' )\\\n",
    "     .filter(customer_prev.Customer_id.isNull())\\\n",
    "    .select(Customer_dim.Customer_id,Customer_dim.First_Name,Customer_dim.Last_Name,Customer_dim.Email_Address,Customer_dim.Address,Customer_dim.City,Customer_dim.State,Customer_dim.Zipcode,Customer_dim.join_date)\n",
    "customer_dim_new_df.show()"
   ]
  },
  {
   "cell_type": "code",
   "execution_count": 25,
   "metadata": {},
   "outputs": [
    {
     "name": "stdout",
     "output_type": "stream",
     "text": [
      "+-----------+----------+---------+--------------------+--------------------+--------+-----+-------+----------+\n",
      "|Customer_id|First_Name|Last_Name|       Email_Address|             Address|    City|State|Zipcode| join_date|\n",
      "+-----------+----------+---------+--------------------+--------------------+--------+-----+-------+----------+\n",
      "|          8|      Lori|    Green|    ponure@decabg.eu|7365 Cherry Hill ...|Kingston|   NY|  12401|2011-09-12|\n",
      "|          9|    Sharon| Davidson|roraba@brand-app.biz|8551 St Margarets...| Seymour|   IN|  47274|2015-06-26|\n",
      "+-----------+----------+---------+--------------------+--------------------+--------+-----+-------+----------+\n",
      "\n"
     ]
    }
   ],
   "source": [
    "# modified\n",
    "\n",
    "customer_dim_modified_df = Customer_dim.join(customer_prev,Customer_dim.Customer_id ==customer_prev.Customer_id,'inner' )\\\n",
    "    .select(Customer_dim.Customer_id,Customer_dim.First_Name,Customer_dim.Last_Name,Customer_dim.Email_Address,Customer_dim.Address,Customer_dim.City,Customer_dim.State,Customer_dim.Zipcode,Customer_dim.join_date)\n",
    "customer_dim_modified_df.show()"
   ]
  },
  {
   "cell_type": "code",
   "execution_count": 27,
   "metadata": {},
   "outputs": [
    {
     "name": "stdout",
     "output_type": "stream",
     "text": [
      "+-----------+----------+---------+--------------------+--------------------+-------------+-----+-------+----------+\n",
      "|Customer_id|First_Name|Last_Name|       Email_Address|             Address|         City|State|Zipcode| join_date|\n",
      "+-----------+----------+---------+--------------------+--------------------+-------------+-----+-------+----------+\n",
      "|          5|     Jason|    Weber|    lyhevi@lyft.live|7075 Princess Street|       Linden|   NJ|  07036|2020-01-23|\n",
      "|          7|  Brittany|  Goodwin|gibumuba@lyricspa...|   9057 Vermont Road| Cockeysville|   MD|  21030|2020-01-26|\n",
      "|          1|    Hayley|   Austin| zekyrabe@finews.biz|   44 E. West Street|      Ashland|   OH|  44805|2019-06-07|\n",
      "|          3|     Carol|Jefferson|  sizunyxy@decabg.eu|MI 48195 8779 Win...|Fuquay Varina|   NC|  27526|2014-06-30|\n",
      "|          4|  Benjamin|    White|quburuha@ema-sofi...|    611 Penn Street |  Long Branch|   NJ|  07740|2010-06-14|\n",
      "|          6|    Jordan|    Kelly| balukajo@finews.biz|      7459 Gulf Lane|      Raeford|   NC|  28376|2016-09-03|\n",
      "|          2|   Michael|    Baker|  dypanoho@lyft.live|131 Iroquois Street |    Southgate|   FL|  04403|2020-08-17|\n",
      "+-----------+----------+---------+--------------------+--------------------+-------------+-----+-------+----------+\n",
      "\n"
     ]
    }
   ],
   "source": [
    "# original\n",
    "customer_dim_unchanged_df = Customer_dim.join(customer_prev,Customer_dim.Customer_id ==customer_prev.Customer_id,'right' )\\\n",
    "    .filter(Customer_dim.Customer_id.isNull())\\\n",
    "    .select(customer_prev.Customer_id,customer_prev.First_Name,customer_prev.Last_Name,customer_prev.Email_Address,customer_prev.Address,customer_prev.City,customer_prev.State,customer_prev.Zipcode,customer_prev.join_date)\n",
    "customer_dim_unchanged_df.show()"
   ]
  },
  {
   "cell_type": "code",
   "execution_count": 53,
   "metadata": {},
   "outputs": [
    {
     "name": "stdout",
     "output_type": "stream",
     "text": [
      "+-----------+----------+---------+--------------------+--------------------+-------------+-----+-------+----------+\n",
      "|Customer_id|First_Name|Last_Name|       Email_Address|             Address|         City|State|Zipcode| join_date|\n",
      "+-----------+----------+---------+--------------------+--------------------+-------------+-----+-------+----------+\n",
      "|         12|   William|    Brown|     fake3@decabg.eu|     9012 Maple Road|   Smallville|   NY|  34567|2019-06-09|\n",
      "|         11|     Sarah|  Johnson|     fake2@decabg.eu|     5678 Oak Avenue|  Springfield|   IL|  67890|2019-06-08|\n",
      "|         13|    Ashley| Williams|     fake4@decabg.eu|      4321 Pine Lane|     Big City|   TX|  98765|2019-06-10|\n",
      "|         10|      John|    Smith|     fake5@decabg.eu|     1234 Elm Street|      Anytown|   CA|  12345|2019-06-07|\n",
      "|          9|    Sharon| Davidson|roraba@brand-app.biz|8551 St Margarets...|      Seymour|   IN|  47274|2015-06-26|\n",
      "|          8|      Lori|    Green|    ponure@decabg.eu|7365 Cherry Hill ...|     Kingston|   NY|  12401|2011-09-12|\n",
      "|          6|    Jordan|    Kelly| balukajo@finews.biz|      7459 Gulf Lane|      Raeford|   NC|  28376|2016-09-03|\n",
      "|          4|  Benjamin|    White|quburuha@ema-sofi...|    611 Penn Street |  Long Branch|   NJ|  07740|2010-06-14|\n",
      "|          5|     Jason|    Weber|    lyhevi@lyft.live|7075 Princess Street|       Linden|   NJ|  07036|2020-01-23|\n",
      "|          3|     Carol|Jefferson|  sizunyxy@decabg.eu|MI 48195 8779 Win...|Fuquay Varina|   NC|  27526|2014-06-30|\n",
      "|          1|    Hayley|   Austin| zekyrabe@finews.biz|   44 E. West Street|      Ashland|   OH|  44805|2019-06-07|\n",
      "|          2|   Michael|    Baker|  dypanoho@lyft.live|131 Iroquois Street |    Southgate|   FL|  04403|2020-08-17|\n",
      "|          7|  Brittany|  Goodwin|gibumuba@lyricspa...|   9057 Vermont Road| Cockeysville|   MD|  21030|2020-01-26|\n",
      "+-----------+----------+---------+--------------------+--------------------+-------------+-----+-------+----------+\n",
      "\n"
     ]
    }
   ],
   "source": [
    "Customer_dim_final_df = customer_dim_new_df.union(customer_dim_modified_df).union(customer_dim_unchanged_df).distinct()#.sort(F.col('Customer_id').asc())\n",
    "Customer_dim_final_df.show(20)"
   ]
  },
  {
   "cell_type": "code",
   "execution_count": 34,
   "metadata": {},
   "outputs": [],
   "source": [
    "store_prev = spark.read.parquet('F:/DE/Final/Parquet/Store/part-00000-74c3155c-640d-4d4d-b88b-7811edc0ac9b-c000.snappy.parquet')"
   ]
  },
  {
   "cell_type": "code",
   "execution_count": 35,
   "metadata": {},
   "outputs": [
    {
     "name": "stdout",
     "output_type": "stream",
     "text": [
      "+--------+------------------+------------+------------------+-----------+-----+-------+\n",
      "|Store_id|        Store_name|Manager_name|           Address|       City|State|Zipcode|\n",
      "+--------+------------------+------------+------------------+-----------+-----+-------+\n",
      "|       2|       BestMai -NY|        Dogg|      625 Broadway|   New York|   NY|  10012|\n",
      "|       1|      BestMai - NJ|       Afaka|       125 18th St|Jersey City|   NJ|  07310|\n",
      "|       3|BestMai - Flushing|        Chen|13107 40th Rd C300|     Queens|   NY|  11354|\n",
      "+--------+------------------+------------+------------------+-----------+-----+-------+\n",
      "\n"
     ]
    }
   ],
   "source": [
    "store_prev.show()"
   ]
  },
  {
   "cell_type": "code",
   "execution_count": 38,
   "metadata": {},
   "outputs": [
    {
     "name": "stdout",
     "output_type": "stream",
     "text": [
      "+--------+------------------+------------+------------------+--------+-----+-------+\n",
      "|Store_id|        Store_name|Manager_name|           Address|    City|State|Zipcode|\n",
      "+--------+------------------+------------+------------------+--------+-----+-------+\n",
      "|       2|       BestMai -NY|        Dogg|      625 Broadway|New York|   NY|  10012|\n",
      "|       4|BestMai - Flushing|        Wang|13107 40th Rd C300|  Queens|   NY|  88888|\n",
      "+--------+------------------+------------+------------------+--------+-----+-------+\n",
      "\n"
     ]
    }
   ],
   "source": [
    "Store_dim.show()"
   ]
  },
  {
   "cell_type": "code",
   "execution_count": 39,
   "metadata": {},
   "outputs": [
    {
     "name": "stdout",
     "output_type": "stream",
     "text": [
      "+--------+------------------+------------+------------------+------+-----+-------+\n",
      "|Store_id|        Store_name|Manager_name|           Address|  City|State|Zipcode|\n",
      "+--------+------------------+------------+------------------+------+-----+-------+\n",
      "|       4|BestMai - Flushing|        Wang|13107 40th Rd C300|Queens|   NY|  88888|\n",
      "+--------+------------------+------------+------------------+------+-----+-------+\n",
      "\n"
     ]
    }
   ],
   "source": [
    "# identify new records comging from day 2 dataset\n",
    "\n",
    "Store_dim_new_df = Store_dim.join(store_prev,Store_dim.Store_id ==store_prev.Store_id,'left' )\\\n",
    "     .filter(store_prev.Store_id.isNull())\\\n",
    "    .select(Store_dim.Store_id,Store_dim.Store_name,Store_dim.Manager_name,Store_dim.Address,Store_dim.City,Store_dim.State,Store_dim.Zipcode)\n",
    "Store_dim_new_df.show()"
   ]
  },
  {
   "cell_type": "code",
   "execution_count": 65,
   "metadata": {},
   "outputs": [
    {
     "name": "stdout",
     "output_type": "stream",
     "text": [
      "+--------+-----------+------------+------------+--------+-----+-------+\n",
      "|Store_id| Store_name|Manager_name|     Address|    City|State|Zipcode|\n",
      "+--------+-----------+------------+------------+--------+-----+-------+\n",
      "|       2|BestMai -NY|        Dogg|625 Broadway|New York|   NY|  10012|\n",
      "+--------+-----------+------------+------------+--------+-----+-------+\n",
      "\n"
     ]
    }
   ],
   "source": [
    "Store_dim_modified_df = Store_dim.join(store_prev,Store_dim.Store_id ==store_prev.Store_id,'inner' )\\\n",
    "    .select(Store_dim.Store_id,Store_dim.Store_name,Store_dim.Manager_name,Store_dim.Address,Store_dim.City,Store_dim.State,Store_dim.Zipcode)\n",
    "Store_dim_modified_df.show()"
   ]
  },
  {
   "cell_type": "code",
   "execution_count": 66,
   "metadata": {},
   "outputs": [
    {
     "name": "stdout",
     "output_type": "stream",
     "text": [
      "+--------+------------------+------------+------------------+-----------+-----+-------+\n",
      "|Store_id|        Store_name|Manager_name|           Address|       City|State|Zipcode|\n",
      "+--------+------------------+------------+------------------+-----------+-----+-------+\n",
      "|       1|      BestMai - NJ|       Afaka|       125 18th St|Jersey City|   NJ|  07310|\n",
      "|       3|BestMai - Flushing|        Chen|13107 40th Rd C300|     Queens|   NY|  11354|\n",
      "+--------+------------------+------------+------------------+-----------+-----+-------+\n",
      "\n"
     ]
    }
   ],
   "source": [
    "Store_dim_unchanged_df = Store_dim.join(store_prev,Store_dim.Store_id ==store_prev.Store_id,'right' )\\\n",
    "     .filter(Store_dim.Store_id.isNull())\\\n",
    "    .select(store_prev.Store_id,store_prev.Store_name,store_prev.Manager_name,store_prev.Address,store_prev.City,store_prev.State,store_prev.Zipcode)\n",
    "Store_dim_unchanged_df.show()"
   ]
  },
  {
   "cell_type": "code",
   "execution_count": 67,
   "metadata": {},
   "outputs": [
    {
     "name": "stdout",
     "output_type": "stream",
     "text": [
      "+--------+------------------+------------+------------------+-----------+-----+-------+\n",
      "|Store_id|        Store_name|Manager_name|           Address|       City|State|Zipcode|\n",
      "+--------+------------------+------------+------------------+-----------+-----+-------+\n",
      "|       4|BestMai - Flushing|        Wang|13107 40th Rd C300|     Queens|   NY|  88888|\n",
      "|       2|       BestMai -NY|        Dogg|      625 Broadway|   New York|   NY|  10012|\n",
      "|       1|      BestMai - NJ|       Afaka|       125 18th St|Jersey City|   NJ|  07310|\n",
      "|       3|BestMai - Flushing|        Chen|13107 40th Rd C300|     Queens|   NY|  11354|\n",
      "+--------+------------------+------------+------------------+-----------+-----+-------+\n",
      "\n"
     ]
    }
   ],
   "source": [
    "Store_dim_final_df = Store_dim_new_df.union(Store_dim_modified_df).union(Store_dim_unchanged_df)#.distinct()\n",
    "Store_dim_final_df.show()"
   ]
  }
 ],
 "metadata": {
  "kernelspec": {
   "display_name": "database",
   "language": "python",
   "name": "python3"
  },
  "language_info": {
   "codemirror_mode": {
    "name": "ipython",
    "version": 3
   },
   "file_extension": ".py",
   "mimetype": "text/x-python",
   "name": "python",
   "nbconvert_exporter": "python",
   "pygments_lexer": "ipython3",
   "version": "3.8.13"
  },
  "orig_nbformat": 4,
  "vscode": {
   "interpreter": {
    "hash": "f37b6ea6e57288f8cadd035c0b6ac6fe77669f2d9e8227313250f4a5a5322b1a"
   }
  }
 },
 "nbformat": 4,
 "nbformat_minor": 2
}
